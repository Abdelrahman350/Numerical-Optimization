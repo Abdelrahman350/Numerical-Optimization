{
 "cells": [
  {
   "cell_type": "code",
   "execution_count": 2,
   "id": "fef11cf0",
   "metadata": {},
   "outputs": [
    {
     "name": "stdout",
     "output_type": "stream",
     "text": [
      "1.6180339888496467\n",
      "5.685779526244015\n",
      "0.7390851347467886\n"
     ]
    }
   ],
   "source": [
    "import math\n",
    "\n",
    "def func1(x):\n",
    "    return x**2 - x - 1\n",
    "\n",
    "def func2(x):\n",
    "    return x**3 - 7*x**2 + 8*x -3\n",
    "\n",
    "def func3(x):\n",
    "    return x * math.cos(x) - x**2\n",
    "\n",
    "def derivative(f, x):\n",
    "    h = 0.000000000001\n",
    "    return (f(x+h) - f(x-h))/(2*h)\n",
    "\n",
    "def newtonRaphson(func, x0):\n",
    "    N = 1000\n",
    "    step = 0\n",
    "    x = 0\n",
    "    while abs(func(x0)) > 0.00000001:\n",
    "        x = x0 - func(x0) / derivative(func, x0)\n",
    "        x0 = x\n",
    "        step = step + 1\n",
    "        \n",
    "        if step >= N:\n",
    "            break\n",
    "    return x\n",
    "        \n",
    "\n",
    "print(newtonRaphson(func=func1, x0=1))\n",
    "print(newtonRaphson(func=func2, x0=5))\n",
    "print(newtonRaphson(func=func3, x0=1))"
   ]
  },
  {
   "cell_type": "code",
   "execution_count": null,
   "id": "dcb53fab",
   "metadata": {},
   "outputs": [],
   "source": []
  }
 ],
 "metadata": {
  "kernelspec": {
   "display_name": "Python 3",
   "language": "python",
   "name": "python3"
  },
  "language_info": {
   "codemirror_mode": {
    "name": "ipython",
    "version": 3
   },
   "file_extension": ".py",
   "mimetype": "text/x-python",
   "name": "python",
   "nbconvert_exporter": "python",
   "pygments_lexer": "ipython3",
   "version": "3.8.5"
  }
 },
 "nbformat": 4,
 "nbformat_minor": 5
}
