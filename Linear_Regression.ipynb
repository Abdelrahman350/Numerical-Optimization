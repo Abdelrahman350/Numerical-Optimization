{
 "cells": [
  {
   "cell_type": "code",
   "execution_count": 1,
   "id": "01578928",
   "metadata": {},
   "outputs": [
    {
     "name": "stdout",
     "output_type": "stream",
     "text": [
      "{'theta_0': -0.208056268919267, 'theta_1': 1.037354947002235}\n"
     ]
    },
    {
     "data": {
      "image/png": "[encoded data removed]",
      "text/plain": [
       "<Figure size 432x288 with 1 Axes>"
      ]
     },
     "metadata": {
      "needs_background": "light"
     },
     "output_type": "display_data"
    }
   ],
   "source": [
    "import numpy as np\n",
    "import matplotlib.pyplot as plt\n",
    "\n",
    "class LinearRegression:\n",
    "    def __init__(self, eta0=0.001, max_iterations=10000):\n",
    "        self.theta_ = np.zeros(shape=(1,))\n",
    "        self.eta = eta0\n",
    "        self.max_iterations = max_iterations\n",
    "    \n",
    "    def fit(self, X, y):\n",
    "        X = np.array(X)\n",
    "        X = X.reshape(X.shape[0], 1)\n",
    "        y = np.array(y)\n",
    "        m = X.shape[0]\n",
    "        X_b = np.concatenate((np.ones((m, 1)), X), axis=1)\n",
    "        self.theta_ = np.zeros(shape=X_b.shape[1])\n",
    "        for i in range(self.max_iterations):\n",
    "            gradients = 2/m * X_b.T.dot(X_b.dot(self.theta_) - y)\n",
    "            self.theta_ = self.theta_ - self.eta * gradients\n",
    "        return self\n",
    "    \n",
    "    def predict(self, X):\n",
    "        X = np.array(X)\n",
    "        X = X.reshape(X.shape[0], 1)\n",
    "        m = X.shape[0]\n",
    "        X_b = np.concatenate((np.ones((m, 1)), X), axis=1)\n",
    "        return X_b.dot(self.theta_)\n",
    "    \n",
    "    def get_params(self, deep=True):\n",
    "        result = {}\n",
    "        for i in range(self.theta_.shape[0]):\n",
    "            name = 'theta_'+str(i)\n",
    "            result[name] = self.theta_[i]\n",
    "        return result\n",
    "        \n",
    "fig1 = plt.figure()\n",
    "x_points = [1,1,2,3,4,5,6,7,8,9,10,11]\n",
    "y_points = [1,2,3,1,4,5,6,4,7,10,15,9]\n",
    "\n",
    "model = LinearRegression()\n",
    "model.fit(x_points, y_points)\n",
    "\n",
    "plt.scatter(x_points, y_points)\n",
    "plt.scatter(x_points, model.predict(x_points))\n",
    "print(model.get_params())"
   ]
  },
  {
   "cell_type": "code",
   "execution_count": 2,
   "id": "b944abaf",
   "metadata": {},
   "outputs": [
    {
     "name": "stdout",
     "output_type": "stream",
     "text": [
      "{'theta_0': 0.6535276823787318, 'theta_1': 0.999272739653299}\n"
     ]
    },
    {
     "data": {
      "image/png": "[encoded data removed]",
      "text/plain": [
       "<Figure size 432x288 with 1 Axes>"
      ]
     },
     "metadata": {
      "needs_background": "light"
     },
     "output_type": "display_data"
    }
   ],
   "source": [
    "x = np.linspace(-50, 50, 100) \n",
    "y = np.random.normal(loc=0.0, scale=10.0, size=x.shape)\n",
    "y = y + x\n",
    "model2 = LinearRegression(eta0=0.001, max_iterations=10000)\n",
    "model2.fit(x, y)\n",
    "\n",
    "plt.scatter(x, y)\n",
    "plt.scatter(x, model.predict(x))\n",
    "print(model2.get_params())"
   ]
  },
  {
   "cell_type": "code",
   "execution_count": null,
   "id": "b9bcaab1",
   "metadata": {},
   "outputs": [],
   "source": []
  }
 ],
 "metadata": {
  "kernelspec": {
   "display_name": "Python 3",
   "language": "python",
   "name": "python3"
  },
  "language_info": {
   "codemirror_mode": {
    "name": "ipython",
    "version": 3
   },
   "file_extension": ".py",
   "mimetype": "text/x-python",
   "name": "python",
   "nbconvert_exporter": "python",
   "pygments_lexer": "ipython3",
   "version": "3.9.2"
  }
 },
 "nbformat": 4,
 "nbformat_minor": 5
}
