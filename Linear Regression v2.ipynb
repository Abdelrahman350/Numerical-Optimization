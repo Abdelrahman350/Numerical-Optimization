{
 "cells": [
  {
   "cell_type": "markdown",
   "id": "f409d92d",
   "metadata": {},
   "source": [
    "# Import Libraries"
   ]
  },
  {
   "cell_type": "code",
   "execution_count": 1,
   "id": "a980152f",
   "metadata": {},
   "outputs": [],
   "source": [
    "import numpy as np\n",
    "import pandas as pd\n",
    "import sklearn\n",
    "import matplotlib.pyplot as plt"
   ]
  },
  {
   "cell_type": "markdown",
   "id": "af334776",
   "metadata": {},
   "source": [
    "# Developing Linear Regression Model"
   ]
  },
  {
   "cell_type": "code",
   "execution_count": 2,
   "id": "7143a290",
   "metadata": {},
   "outputs": [],
   "source": [
    "class GD_LinearRegression:\n",
    "    def __init__(self, eta=0.0001, max_iterations=1000):\n",
    "        self.eta = eta\n",
    "        self.max_iterations = max_iterations\n",
    "        self.theta_ = np.zeros((1,))\n",
    "        self.loss = []\n",
    "        \n",
    "    def fit(self, X, y):\n",
    "        X = np.array(X)\n",
    "        X_b = np.c_[(np.ones((X.shape[0], 1)), X)]\n",
    "        m, n = X_b.shape\n",
    "        y = np.array(y)\n",
    "        self.theta_ = np.zeros(shape=n)\n",
    "        for i in range(self.max_iterations):\n",
    "            gradients = X_b.T.dot(X_b.dot(self.theta_)-y) / m\n",
    "            self.theta_ = self.theta_ - self.eta * gradients\n",
    "            self.loss.append(X_b.T.dot(X_b.dot(self.theta_)-y)**2)\n",
    "        return self\n",
    "    \n",
    "    def predict(self, X):\n",
    "        X = np.array(X)\n",
    "        X_b = np.c_[(np.ones((X.shape[0], 1)), X)]\n",
    "        return X_b.dot(self.theta_)\n",
    "    \n",
    "    def get_RSS(self, X, y):\n",
    "        X = np.array(X)\n",
    "        y = np.ravel(np.array(y))\n",
    "        predictions = self.predict(X)\n",
    "        residuals = predictions - y\n",
    "        RSS = np.square(residuals).sum()\n",
    "        return(RSS)\n",
    "    \n",
    "    def R2(self, X, y):\n",
    "        X = np.array(X)\n",
    "        X_b = np.c_[(np.ones((X.shape[0], 1)), X)]\n",
    "        m, n = X_b.shape\n",
    "        y = np.array(y)\n",
    "        \n",
    "        y_bar = np.mean(y)\n",
    "        sstor = np.sum((X_b.dot(self.theta_) - y_bar)**2)\n",
    "        rss = self.get_RSS(X, y)\n",
    "        R2 = 1-rss/sstor\n",
    "        return R2\n",
    "    \n",
    "    def get_params(self, deep=True):\n",
    "        weights = {}\n",
    "        for i in range(self.theta_.shape[0]):\n",
    "            name = 'theta_'+str(i)\n",
    "            weights[name] = self.theta_[i]\n",
    "        return weights"
   ]
  },
  {
   "cell_type": "markdown",
   "id": "ffc96efc",
   "metadata": {},
   "source": [
    "# Problem One (Univariate Model)"
   ]
  },
  {
   "cell_type": "code",
   "execution_count": 3,
   "id": "c3e22404",
   "metadata": {},
   "outputs": [],
   "source": [
    "data = pd.read_csv(\"RegData.csv\", header=None)"
   ]
  },
  {
   "cell_type": "code",
   "execution_count": 4,
   "id": "4f51f108",
   "metadata": {},
   "outputs": [
    {
     "data": {
      "text/html": [
       "<div>\n",
       "<style scoped>\n",
       "    .dataframe tbody tr th:only-of-type {\n",
       "        vertical-align: middle;\n",
       "    }\n",
       "\n",
       "    .dataframe tbody tr th {\n",
       "        vertical-align: top;\n",
       "    }\n",
       "\n",
       "    .dataframe thead th {\n",
       "        text-align: right;\n",
       "    }\n",
       "</style>\n",
       "<table border=\"1\" class=\"dataframe\">\n",
       "  <thead>\n",
       "    <tr style=\"text-align: right;\">\n",
       "      <th></th>\n",
       "      <th>0</th>\n",
       "      <th>1</th>\n",
       "    </tr>\n",
       "  </thead>\n",
       "  <tbody>\n",
       "    <tr>\n",
       "      <th>0</th>\n",
       "      <td>2.9</td>\n",
       "      <td>4.0</td>\n",
       "    </tr>\n",
       "    <tr>\n",
       "      <th>1</th>\n",
       "      <td>6.7</td>\n",
       "      <td>7.4</td>\n",
       "    </tr>\n",
       "    <tr>\n",
       "      <th>2</th>\n",
       "      <td>4.9</td>\n",
       "      <td>5.0</td>\n",
       "    </tr>\n",
       "    <tr>\n",
       "      <th>3</th>\n",
       "      <td>7.9</td>\n",
       "      <td>7.2</td>\n",
       "    </tr>\n",
       "    <tr>\n",
       "      <th>4</th>\n",
       "      <td>9.8</td>\n",
       "      <td>7.9</td>\n",
       "    </tr>\n",
       "  </tbody>\n",
       "</table>\n",
       "</div>"
      ],
      "text/plain": [
       "     0    1\n",
       "0  2.9  4.0\n",
       "1  6.7  7.4\n",
       "2  4.9  5.0\n",
       "3  7.9  7.2\n",
       "4  9.8  7.9"
      ]
     },
     "execution_count": 4,
     "metadata": {},
     "output_type": "execute_result"
    }
   ],
   "source": [
    "data.head()"
   ]
  },
  {
   "cell_type": "code",
   "execution_count": 5,
   "id": "6fd04784",
   "metadata": {},
   "outputs": [],
   "source": [
    "X = data.iloc[:, 0]\n",
    "y = data.iloc[:, 1]"
   ]
  },
  {
   "cell_type": "code",
   "execution_count": 6,
   "id": "e016fa46",
   "metadata": {},
   "outputs": [
    {
     "name": "stdout",
     "output_type": "stream",
     "text": [
      "R2 =  0.8050907685132593\n"
     ]
    },
    {
     "data": {
      "image/png": "[encoded data removed]",
      "text/plain": [
       "<Figure size 432x288 with 1 Axes>"
      ]
     },
     "metadata": {
      "needs_background": "light"
     },
     "output_type": "display_data"
    }
   ],
   "source": [
    "model = GD_LinearRegression()\n",
    "model.fit(X, y)\n",
    "plt.scatter(X, y)\n",
    "plt.scatter(X, model.predict(X))\n",
    "fig1 = plt.figure(1)\n",
    "plt.title(\"Data Visualization\")\n",
    "plt.xlabel(\"X\")\n",
    "plt.ylabel(\"y\")\n",
    "plt.legend([\"True\", \"Prediction\"], loc =\"lower right\")\n",
    "print(\"R2 = \", model.R2(X,y))"
   ]
  },
  {
   "cell_type": "code",
   "execution_count": 7,
   "id": "d7bc9c10",
   "metadata": {},
   "outputs": [
    {
     "name": "stdout",
     "output_type": "stream",
     "text": [
      "R2 =  {'theta_0': 0.14632558592497913, 'theta_1': 0.8775218359713112}\n"
     ]
    },
    {
     "data": {
      "image/png": "[encoded data removed]",
      "text/plain": [
       "<Figure size 432x288 with 1 Axes>"
      ]
     },
     "metadata": {
      "needs_background": "light"
     },
     "output_type": "display_data"
    }
   ],
   "source": [
    "fig2 = plt.figure(2)\n",
    "plt.plot(model.loss)\n",
    "plt.title(\"Loss vs #iterations\")\n",
    "plt.xlabel(\"#iterations\")\n",
    "plt.ylabel(\"Loss\")\n",
    "plt.legend([r'$\\theta_{0}$', r'$\\theta_{1}$'], loc =\"lower right\")\n",
    "print(\"R2 = \", model.get_params())"
   ]
  },
  {
   "cell_type": "markdown",
   "id": "8b3e85d5",
   "metadata": {},
   "source": [
    "# Problem Two (Multi Variate Model)"
   ]
  },
  {
   "cell_type": "code",
   "execution_count": 8,
   "id": "cdc14ae6",
   "metadata": {},
   "outputs": [
    {
     "data": {
      "text/html": [
       "<div>\n",
       "<style scoped>\n",
       "    .dataframe tbody tr th:only-of-type {\n",
       "        vertical-align: middle;\n",
       "    }\n",
       "\n",
       "    .dataframe tbody tr th {\n",
       "        vertical-align: top;\n",
       "    }\n",
       "\n",
       "    .dataframe thead th {\n",
       "        text-align: right;\n",
       "    }\n",
       "</style>\n",
       "<table border=\"1\" class=\"dataframe\">\n",
       "  <thead>\n",
       "    <tr style=\"text-align: right;\">\n",
       "      <th></th>\n",
       "      <th>0</th>\n",
       "      <th>1</th>\n",
       "      <th>2</th>\n",
       "      <th>3</th>\n",
       "    </tr>\n",
       "  </thead>\n",
       "  <tbody>\n",
       "    <tr>\n",
       "      <th>0</th>\n",
       "      <td>73</td>\n",
       "      <td>80</td>\n",
       "      <td>75</td>\n",
       "      <td>152</td>\n",
       "    </tr>\n",
       "    <tr>\n",
       "      <th>1</th>\n",
       "      <td>93</td>\n",
       "      <td>88</td>\n",
       "      <td>93</td>\n",
       "      <td>185</td>\n",
       "    </tr>\n",
       "    <tr>\n",
       "      <th>2</th>\n",
       "      <td>89</td>\n",
       "      <td>91</td>\n",
       "      <td>90</td>\n",
       "      <td>180</td>\n",
       "    </tr>\n",
       "    <tr>\n",
       "      <th>3</th>\n",
       "      <td>96</td>\n",
       "      <td>98</td>\n",
       "      <td>100</td>\n",
       "      <td>196</td>\n",
       "    </tr>\n",
       "    <tr>\n",
       "      <th>4</th>\n",
       "      <td>73</td>\n",
       "      <td>66</td>\n",
       "      <td>70</td>\n",
       "      <td>142</td>\n",
       "    </tr>\n",
       "  </tbody>\n",
       "</table>\n",
       "</div>"
      ],
      "text/plain": [
       "    0   1    2    3\n",
       "0  73  80   75  152\n",
       "1  93  88   93  185\n",
       "2  89  91   90  180\n",
       "3  96  98  100  196\n",
       "4  73  66   70  142"
      ]
     },
     "execution_count": 8,
     "metadata": {},
     "output_type": "execute_result"
    }
   ],
   "source": [
    "data2 = pd.read_csv(\"MultipleLR.csv\", header=None)\n",
    "data2.head()"
   ]
  },
  {
   "cell_type": "code",
   "execution_count": 9,
   "id": "4c658519",
   "metadata": {},
   "outputs": [],
   "source": [
    "X2 = data2.iloc[:, 0:-1]\n",
    "y2 = data2.iloc[:, -1]"
   ]
  },
  {
   "cell_type": "code",
   "execution_count": 10,
   "id": "0422c236",
   "metadata": {},
   "outputs": [
    {
     "name": "stdout",
     "output_type": "stream",
     "text": [
      "{'theta_0': 0.002899507139212802, 'theta_1': 0.442036972843763, 'theta_2': 0.5177782476642598, 'theta_3': 1.0556980651027519}\n"
     ]
    },
    {
     "data": {
      "image/png": "[encoded data removed]",
      "text/plain": [
       "<Figure size 1080x360 with 3 Axes>"
      ]
     },
     "metadata": {
      "needs_background": "light"
     },
     "output_type": "display_data"
    }
   ],
   "source": [
    "model2 = GD_LinearRegression()\n",
    "model2.fit(X2, y2)\n",
    "fig, a =  plt.subplots(1,3,figsize=(15,5))\n",
    "fig.suptitle('Data Visualisations')\n",
    "a[0].scatter(X2[0], y2)\n",
    "a[0].scatter(X2[0], model2.predict(X2))\n",
    "a[0].set(xlabel='X0', ylabel='y')\n",
    "a[1].scatter(X2[1], y2)\n",
    "a[1].scatter(X2[1], model2.predict(X2))\n",
    "a[1].set(xlabel='X1', ylabel='y')\n",
    "a[2].scatter(X2[2], y2)\n",
    "a[2].scatter(X2[2], model2.predict(X2))\n",
    "a[2].set(xlabel='X2', ylabel='y')\n",
    "\n",
    "print(model2.get_params())"
   ]
  },
  {
   "cell_type": "code",
   "execution_count": 11,
   "id": "3b695aaf",
   "metadata": {},
   "outputs": [
    {
     "name": "stdout",
     "output_type": "stream",
     "text": [
      "R2 =  0.8050907685132593\n"
     ]
    },
    {
     "data": {
      "image/png": "[encoded data removed]",
      "text/plain": [
       "<Figure size 1440x360 with 4 Axes>"
      ]
     },
     "metadata": {
      "needs_background": "light"
     },
     "output_type": "display_data"
    }
   ],
   "source": [
    "fig2, a2 =  plt.subplots(1,4,figsize=(20,5))\n",
    "fig2.suptitle('Loss vs #iterations')\n",
    "a2[0].plot(np.array(model2.loss).T[0])\n",
    "a2[0].set(xlabel='#iterations', ylabel='Loss theta_0')\n",
    "a2[1].plot(np.array(model2.loss).T[1])\n",
    "a2[1].set(xlabel='#iterations', ylabel='Loss theta_1')\n",
    "a2[2].plot(np.array(model2.loss).T[2])\n",
    "a2[2].set(xlabel='#iterations', ylabel='Loss theta_2')\n",
    "a2[3].plot(np.array(model2.loss).T[3])\n",
    "a2[3].set(xlabel='#iterations', ylabel='Loss theta_3')\n",
    "print(\"R2 = \", model.R2(X,y))"
   ]
  },
  {
   "cell_type": "markdown",
   "id": "efa2348f",
   "metadata": {},
   "source": [
    "# Solving using sklearn"
   ]
  },
  {
   "cell_type": "code",
   "execution_count": 12,
   "id": "79e836cf",
   "metadata": {},
   "outputs": [
    {
     "name": "stdout",
     "output_type": "stream",
     "text": [
      "0.7472536683793205\n"
     ]
    }
   ],
   "source": [
    "import sklearn\n",
    "from sklearn.linear_model import LinearRegression\n",
    "\n",
    "model3 = LinearRegression()\n",
    "X3 = np.array(X2)\n",
    "model3.fit(X3, y2)\n",
    "\n",
    "print(sklearn.metrics.r2_score(X, y))"
   ]
  }
 ],
 "metadata": {
  "kernelspec": {
   "display_name": "Python 3",
   "language": "python",
   "name": "python3"
  },
  "language_info": {
   "codemirror_mode": {
    "name": "ipython",
    "version": 3
   },
   "file_extension": ".py",
   "mimetype": "text/x-python",
   "name": "python",
   "nbconvert_exporter": "python",
   "pygments_lexer": "ipython3",
   "version": "3.9.2"
  }
 },
 "nbformat": 4,
 "nbformat_minor": 5
}
